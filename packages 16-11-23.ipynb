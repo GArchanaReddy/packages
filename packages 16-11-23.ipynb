{
 "cells": [
  {
   "cell_type": "markdown",
   "id": "4168c2de",
   "metadata": {},
   "source": [
    "# packages :"
   ]
  },
  {
   "cell_type": "markdown",
   "id": "16fafe57",
   "metadata": {},
   "source": [
    "* the package concept is a collection of modules.\n",
    "* The Function concept is used for Performing some operation and provides code re-usability within the same program and unable to provide code re-usability across programs.\n",
    "* The purpose of Packages is that to provide code re-usability across the folders / drives / enviroments.\n",
    "* python modules may contain several clases functions,variableswhereas python packages contain several modules.in simplierterms package in python is a folder that contains various modules as files.\n",
    "* The purpose of Packages is that to provide code re-usability across the folders / drives / enviroments."
   ]
  },
  {
   "cell_type": "markdown",
   "id": "91d518b9",
   "metadata": {},
   "source": [
    "# Creating Package\n",
    "Let’s create a package in Python named mypckg that will contain two modules mod1 and mod2. To create this module follow the below steps:\n",
    "\n",
    "Create a folder named mypckg.\n",
    "* Inside this folder create an empty Python file i.e. __init__.py\n",
    "* Then create two modules mod1 and mod2 in this folder.\n",
    "Mod1.py"
   ]
  },
  {
   "cell_type": "markdown",
   "id": "6dbc4392",
   "metadata": {},
   "source": [
    "Module:-\n",
    "A module as reusable, importable code,every package is a module — but not every module is a package.\n",
    "\n",
    "Python statements and definitions, like a file can be considered as a module which can be imported with the help of import statement.\n",
    "\n",
    "A package is a collection of modules in directories that give structure and hierarchy to the modules.\n"
   ]
  },
  {
   "cell_type": "markdown",
   "id": "d69516e2",
   "metadata": {},
   "source": [
    "Creating and Importing a module\n",
    "A module is simply a Python file with a .py extension that can be imported inside another Python program.\n",
    "\n",
    "The name of the Python file becomes the module name.\n",
    "\n",
    "The module contains definitions and implementation of classes, variables, and functions that can be used inside another program."
   ]
  },
  {
   "cell_type": "code",
   "execution_count": 2,
   "id": "cefc8b51",
   "metadata": {},
   "outputs": [],
   "source": [
    "def add(x,y):\n",
    "    return(x+y)"
   ]
  },
  {
   "cell_type": "markdown",
   "id": "670644b5",
   "metadata": {},
   "source": [
    "Importing module from a package\n",
    "All the object from a module can be imported as a variable. This prevents the usage of the module name as a prefix.\n",
    "\n",
    "     from module_name_ import *\n",
    "     "
   ]
  },
  {
   "cell_type": "markdown",
   "id": "4842946f",
   "metadata": {},
   "source": [
    "Always ensure that the module file (e.g., calculator.py) and the file where you import and use the module (e.g., main.py) are in the same directory or in a location where Python can find the module (like in the Python path).\n",
    "You can also organize your modules into packages (folders with an init.py file). This helps manage multiple related modules together.\n",
    "Understanding init.py\n",
    "init.py helps the Python interpreter recognize the folder as a package.\n",
    "\n",
    "Any Python file, whose name is the module’s name with the .py extension, is a module.\n",
    "\n",
    "A directory must contain a file named init.py in order for Python to consider it as a package.\n",
    "\n",
    "The init file may be empty, or it may contain code to be executed upon package initialization.\n",
    "\n",
    "It also specifies the resources to be imported from the modules."
   ]
  },
  {
   "cell_type": "markdown",
   "id": "08384b56",
   "metadata": {},
   "source": [
    "If the init.py is empty this means that all the functions of the modules will be imported.\n",
    "\n",
    "We can also specify the functions from each module to be made available.\n",
    "\n",
    "we can also create the init.py file for the above module as:\n",
    "    __init__.py\n",
    "\n",
    "    from .mod1 import gfg\n",
    "    from .mod2 import sum\n",
    "This init.py will only allow the gfg and sum functions from the mod1 and mod2 modules to be imported.\n",
    "\n",
    "Class in python\n",
    "class:-\n",
    "\n",
    "Creating a class in Python involves defining a blueprint for creating objects.\n",
    "A class is a user-defined blueprint or prototype from which objects are created.\n",
    "Classes provide a means of bundling data and functionality together.\n",
    "understanding-class-python.png"
   ]
  },
  {
   "cell_type": "markdown",
   "id": "fdbeaf40",
   "metadata": {},
   "source": [
    "Aliasing\n",
    "An alias is essentially an alternate name for a module, function, or class.\n",
    "\n",
    "In Python, we can give another name of the function.\n",
    "\n",
    "For the existing function, we can give another name, which is nothing but function aliasing.\n",
    "\n",
    "Aliasing happens when the value of one variable is assigned to another variable because variables are just names that store references to actual value."
   ]
  },
  {
   "cell_type": "markdown",
   "id": "3c92d6b0",
   "metadata": {},
   "source": [
    "Function aliasing in Python\n",
    "In aliasing, we create a new variable and assign the function reference to one existing function to the variable.\n",
    "\n",
    "This can be useful for several reasons, such as shortening long module names, avoiding naming conflicts, or enhancing code readability."
   ]
  },
  {
   "cell_type": "code",
   "execution_count": 4,
   "id": "bc4b0c59",
   "metadata": {},
   "outputs": [
    {
     "name": "stdout",
     "output_type": "stream",
     "text": [
      "Value of first: PYTHON\n",
      "Reference of first: 1827422363248\n",
      "--------------\n",
      "Value of second: PYTHON\n",
      "Reference of second: 1827422363248\n"
     ]
    }
   ],
   "source": [
    "first_variable = \"PYTHON\"\n",
    "print(\"Value of first:\", first_variable)\n",
    "print(\"Reference of first:\", id(first_variable))\n",
    "\n",
    "print(\"--------------\")\n",
    "\n",
    "second_variable = first_variable # making an alias\n",
    "print(\"Value of second:\", second_variable)\n",
    "print(\"Reference of second:\", id(second_variable))"
   ]
  },
  {
   "cell_type": "markdown",
   "id": "b7cabe81",
   "metadata": {},
   "source": [
    "# Namespace"
   ]
  },
  {
   "cell_type": "markdown",
   "id": "963e295c",
   "metadata": {},
   "source": [
    "A namespace is a system that has a unique name for each and every object in Python.\n",
    "\n",
    "An object might be a variable or a method.\n",
    "\n",
    "Python itself maintains a namespace in the form of a Python dictionary.\n",
    "\n",
    "The Python interpreter understands what exact method or variable one is trying to point to in the code, depending upon the namespace. So, the division of the word itself gives a little more information.\n",
    "\n",
    "Its Name (which means name, a unique identifier) + Space(which talks something related to scope)."
   ]
  },
  {
   "cell_type": "markdown",
   "id": "4b992090",
   "metadata": {},
   "source": [
    "The types of namespaces:\n",
    "1.The Built-In Namespace\n",
    "\n",
    "2The Global Namespace\n",
    "3.The Local and Enclosing Namespaces"
   ]
  },
  {
   "cell_type": "markdown",
   "id": "2e176cb4",
   "metadata": {},
   "source": [
    "# scope of variable"
   ]
  },
  {
   "cell_type": "markdown",
   "id": "014c2c84",
   "metadata": {},
   "source": [
    "A variable is only available from inside the region it is created. This is called scope."
   ]
  },
  {
   "cell_type": "markdown",
   "id": "d7b6a5b3",
   "metadata": {},
   "source": [
    "Local Scope:\n",
    "A variable created inside a function belongs to the local scope of that function, and can only be used inside that function."
   ]
  },
  {
   "cell_type": "markdown",
   "id": "d71ae03e",
   "metadata": {},
   "source": [
    "global variable\n",
    "Variables that are created outside of a function (as in all of the examples above) are known as global variables.\n",
    "\n",
    "Global variables can be used by everyone, both inside of functions and outside.\n",
    "\n",
    "image.png"
   ]
  },
  {
   "cell_type": "markdown",
   "id": "2a1d232c",
   "metadata": {},
   "source": [
    "built-in variable\n",
    "The built-in scope in Python refers to the variables and functions that are built into the language and are available from anywhere in your program."
   ]
  },
  {
   "cell_type": "code",
   "execution_count": null,
   "id": "76c9ecf5",
   "metadata": {},
   "outputs": [],
   "source": []
  }
 ],
 "metadata": {
  "kernelspec": {
   "display_name": "Python 3 (ipykernel)",
   "language": "python",
   "name": "python3"
  },
  "language_info": {
   "codemirror_mode": {
    "name": "ipython",
    "version": 3
   },
   "file_extension": ".py",
   "mimetype": "text/x-python",
   "name": "python",
   "nbconvert_exporter": "python",
   "pygments_lexer": "ipython3",
   "version": "3.11.5"
  }
 },
 "nbformat": 4,
 "nbformat_minor": 5
}
